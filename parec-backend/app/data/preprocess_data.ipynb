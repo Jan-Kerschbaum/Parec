{
 "cells": [
  {
   "cell_type": "code",
   "execution_count": 78,
   "metadata": {},
   "outputs": [
    {
     "data": {
      "text/html": [
       "        <script type=\"text/javascript\">\n",
       "        window.PlotlyConfig = {MathJaxConfig: 'local'};\n",
       "        if (window.MathJax && window.MathJax.Hub && window.MathJax.Hub.Config) {window.MathJax.Hub.Config({SVG: {font: \"STIX-Web\"}});}\n",
       "        if (typeof require !== 'undefined') {\n",
       "        require.undef(\"plotly\");\n",
       "        requirejs.config({\n",
       "            paths: {\n",
       "                'plotly': ['https://cdn.plot.ly/plotly-2.18.0.min']\n",
       "            }\n",
       "        });\n",
       "        require(['plotly'], function(Plotly) {\n",
       "            window._Plotly = Plotly;\n",
       "        });\n",
       "        }\n",
       "        </script>\n",
       "        "
      ]
     },
     "metadata": {},
     "output_type": "display_data"
    }
   ],
   "source": [
    "import json\n",
    "import pickle\n",
    "from plotly.offline import init_notebook_mode\n",
    "init_notebook_mode(connected=True) \n",
    "import itertools\n",
    "import re\n",
    "import requests\n",
    "import sys\n",
    "import pprint"
   ]
  },
  {
   "cell_type": "code",
   "execution_count": 62,
   "metadata": {},
   "outputs": [],
   "source": [
    "data_file = 'arxiv-metadata-oai-snapshot.json'       #'./Parec/elasticsearch/data/arxiv_reduced.json'    #'./data/example_snapshot.json'        "
   ]
  },
  {
   "cell_type": "code",
   "execution_count": 35,
   "metadata": {},
   "outputs": [],
   "source": [
    "# Filter for categories\n",
    "# see https://arxiv.org/help/api/user-manual --> only keep categories related to Computer Science\n",
    "\n",
    "category_map = {\n",
    "'cs.AI': 'Artificial Intelligence',\n",
    "'cs.AR': 'Hardware Architecture',\n",
    "'cs.CC': 'Computational Complexity',\n",
    "'cs.CE': 'Computational Engineering, Finance, and Science',\n",
    "'cs.CG': 'Computational Geometry',\n",
    "'cs.CL': 'Computation and Language',\n",
    "'cs.CR': 'Cryptography and Security',\n",
    "'cs.CV': 'Computer Vision and Pattern Recognition',\n",
    "'cs.CY': 'Computers and Society',\n",
    "'cs.DB': 'Databases',\n",
    "'cs.DC': 'Distributed, Parallel, and Cluster Computing',\n",
    "'cs.DL': 'Digital Libraries',\n",
    "'cs.DM': 'Discrete Mathematics',\n",
    "'cs.DS': 'Data Structures and Algorithms',\n",
    "'cs.ET': 'Emerging Technologies',\n",
    "'cs.FL': 'Formal Languages and Automata Theory',\n",
    "'cs.GL': 'General Literature',\n",
    "'cs.GR': 'Graphics',\n",
    "'cs.GT': 'Computer Science and Game Theory',\n",
    "'cs.HC': 'Human-Computer Interaction',\n",
    "'cs.IR': 'Information Retrieval',\n",
    "'cs.IT': 'Information Theory',\n",
    "'cs.LG': 'Machine Learning',\n",
    "'cs.LO': 'Logic in Computer Science',\n",
    "'cs.MA': 'Multiagent Systems',\n",
    "'cs.MM': 'Multimedia',\n",
    "'cs.MS': 'Mathematical Software',\n",
    "'cs.NA': 'Numerical Analysis',\n",
    "'cs.NE': 'Neural and Evolutionary Computing',\n",
    "'cs.NI': 'Networking and Internet Architecture',\n",
    "'cs.OH': 'Other Computer Science',\n",
    "'cs.OS': 'Operating Systems',\n",
    "'cs.PF': 'Performance',\n",
    "'cs.PL': 'Programming Languages',\n",
    "'cs.RO': 'Robotics',\n",
    "'cs.SC': 'Symbolic Computation',\n",
    "'cs.SD': 'Sound',\n",
    "'cs.SE': 'Software Engineering',\n",
    "'cs.SI': 'Social and Information Networks',\n",
    "'cs.SY': 'Systems and Control'}"
   ]
  },
  {
   "cell_type": "code",
   "execution_count": null,
   "metadata": {},
   "outputs": [],
   "source": [
    "# with open(\"cs_categories.json\", \"w\") as outfile:      #save categories as json\n",
    "#     json.dump(category_map, outfile)"
   ]
  },
  {
   "cell_type": "code",
   "execution_count": 66,
   "metadata": {},
   "outputs": [],
   "source": [
    "def get_metadata(path_to_dataset):\n",
    "    with open(path_to_dataset, 'r', encoding='latin_1') as f:     #load original data set\n",
    "        for line in f:\n",
    "            yield line\n",
    "\n",
    "# Strip trailing whitespaces and \\n-characters\n",
    "def clean_strings(strings):\n",
    "    cleaned = strings.strip() \n",
    "    return re.sub('\\s+',' ', cleaned)"
   ]
  },
  {
   "cell_type": "code",
   "execution_count": 69,
   "metadata": {},
   "outputs": [],
   "source": [
    "def filter_dataset(path_to_dataset, category_map):\n",
    "\n",
    "    authors = []\n",
    "    titles = []\n",
    "    abstracts = []\n",
    "    years = []\n",
    "    categories = []\n",
    "    metadata = get_metadata(path_to_dataset)\n",
    "\n",
    "    for paper in metadata:\n",
    "        paper_dict = json.loads(paper, encoding='latin_1')\n",
    "        ref = paper_dict.get('journal-ref')\n",
    "        try:\n",
    "            year = int(ref[-4:]) \n",
    "            if 2016 < year <= 2022:\n",
    "                categories.append(category_map[paper_dict.get('categories').split(\" \")[0]])\n",
    "                authors.append(paper_dict.get('authors'))\n",
    "                years.append(year)\n",
    "                titles.append(paper_dict.get('title'))\n",
    "                abstracts.append(paper_dict.get('abstract'))\n",
    "        except:\n",
    "            pass \n",
    "    #print(\"Check length: \", len(titles), len(abstracts), len(years), len(authors), len(categories))\n",
    "\n",
    "    cleaned_abstracts = [clean_strings(abstract) for abstract in abstracts]\n",
    "    cleaned_titles = [clean_strings(title) for title in titles]\n",
    "    cleaned_authors = [clean_strings(author) for author in authors]\n",
    "\n",
    "    reduced = []\n",
    "    for author, title, abstract, year, category in zip(cleaned_authors, cleaned_titles, cleaned_abstracts, years, categories):\n",
    "        reduced.append({\"abstract\":abstract, \"title\":title, \"author\":author, \"year\":year, \"category\":category})\n",
    "    \n",
    "    return {\"root\": reduced}        #add root"
   ]
  },
  {
   "cell_type": "code",
   "execution_count": 70,
   "metadata": {},
   "outputs": [
    {
     "name": "stderr",
     "output_type": "stream",
     "text": [
      "/var/folders/ll/bb9p31ws1bq30rs5vh03t4f80000gn/T/ipykernel_17180/1592424316.py:11: DeprecationWarning:\n",
      "\n",
      "'encoding' is ignored and deprecated. It will be removed in Python 3.9\n",
      "\n"
     ]
    }
   ],
   "source": [
    "data = filter_dataset(data_file, category_map)"
   ]
  },
  {
   "cell_type": "code",
   "execution_count": 76,
   "metadata": {},
   "outputs": [
    {
     "name": "stdout",
     "output_type": "stream",
     "text": [
      "[{'abstract': 'In Lombardi drawings of graphs, edges are represented as circular arcs, and the edges incident on vertices have perfect angular resolution. However, not every graph has a Lombardi drawing, and not every planar graph has a planar Lombardi drawing. We introduce k-Lombardi drawings, in which each edge may be drawn with k circular arcs, noting that every graph has a smooth 2-Lombardi drawing. We show that every planar graph has a smooth planar 3-Lombardi drawing and further investigate topics connecting planarity and Lombardi drawings.', 'title': 'Planar and Poly-Arc Lombardi Drawings', 'author': 'Christian A. Duncan and David Eppstein and Michael T. Goodrich and Stephen G. Kobourov and Maarten L\\\\\"offler', 'year': 2018, 'category': 'Computational Geometry'}]\n"
     ]
    }
   ],
   "source": [
    "print(data[\"root\"][0:1])"
   ]
  },
  {
   "cell_type": "code",
   "execution_count": 72,
   "metadata": {},
   "outputs": [],
   "source": [
    "with open('arxiv_reduced.json', 'w', encoding='latin_1') as fp:    #save reduced data set\n",
    "    json.dump(data, fp)"
   ]
  },
  {
   "cell_type": "code",
   "execution_count": 73,
   "metadata": {},
   "outputs": [],
   "source": [
    "f = open('arxiv_reduced.json', encoding='latin_1')\n",
    "data = json.load(f, encoding='latin_1')"
   ]
  },
  {
   "cell_type": "code",
   "execution_count": 74,
   "metadata": {},
   "outputs": [
    {
     "name": "stdout",
     "output_type": "stream",
     "text": [
      "[{'abstract': 'In Lombardi drawings of graphs, edges are represented as circular arcs, and the edges incident on vertices have perfect angular resolution. However, not every graph has a Lombardi drawing, and not every planar graph has a planar Lombardi drawing. We introduce k-Lombardi drawings, in which each edge may be drawn with k circular arcs, noting that every graph has a smooth 2-Lombardi drawing. We show that every planar graph has a smooth planar 3-Lombardi drawing and further investigate topics connecting planarity and Lombardi drawings.', 'title': 'Planar and Poly-Arc Lombardi Drawings', 'author': 'Christian A. Duncan and David Eppstein and Michael T. Goodrich and Stephen G. Kobourov and Maarten L\\\\\"offler', 'year': 2018, 'category': 'Computational Geometry'}]\n"
     ]
    }
   ],
   "source": [
    "print(data[\"root\"][:1])     #test if same"
   ]
  }
 ],
 "metadata": {
  "kernelspec": {
   "display_name": "elasticsearch",
   "language": "python",
   "name": "python3"
  },
  "language_info": {
   "codemirror_mode": {
    "name": "ipython",
    "version": 3
   },
   "file_extension": ".py",
   "mimetype": "text/x-python",
   "name": "python",
   "nbconvert_exporter": "python",
   "pygments_lexer": "ipython3",
   "version": "3.8.0"
  },
  "orig_nbformat": 4,
  "vscode": {
   "interpreter": {
    "hash": "19fd5efcc5752a60788dce8a956613aa03887a2e6ee65780e0b1022021e9dc86"
   }
  }
 },
 "nbformat": 4,
 "nbformat_minor": 2
}
